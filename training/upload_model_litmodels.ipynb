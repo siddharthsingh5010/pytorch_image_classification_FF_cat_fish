{
 "cells": [
  {
   "cell_type": "markdown",
   "metadata": {},
   "source": []
  },
  {
   "cell_type": "code",
   "execution_count": 4,
   "metadata": {},
   "outputs": [
    {
     "data": {
      "application/vnd.jupyter.widget-view+json": {
       "model_id": "52188f33dd54437bb9f6c8c3a188af26",
       "version_major": 2,
       "version_minor": 0
      },
      "text/plain": [
       "Uploading files...:   0%|          | 0/1 [00:00<?, ?it/s]"
      ]
     },
     "metadata": {},
     "output_type": "display_data"
    },
    {
     "data": {
      "application/vnd.jupyter.widget-view+json": {
       "model_id": "d673a44fdfb142d3abea7f8d4b81232d",
       "version_major": 2,
       "version_minor": 0
      },
      "text/plain": [
       "Uploading model.pkl:   0%|          | 0.00/16.5M [00:00<?, ?B/s]"
      ]
     },
     "metadata": {},
     "output_type": "display_data"
    },
    {
     "data": {
      "text/plain": [
       "UploadedModelInfo(name='cat_fish_FF_DL_Model', version='v2', teamspace='myworkspace', cloud_account='lightning-public-prod')"
      ]
     },
     "execution_count": 4,
     "metadata": {},
     "output_type": "execute_result"
    }
   ],
   "source": [
    "import litmodels\n",
    "# Upload the model\n",
    "litmodels.upload_model(\n",
    "    name=\"siddharthsingh501/myworkspace/cat_fish_FF_DL_Model\",\n",
    "    model=\"../models/model.pkl\",  # Change to a folder path if needed\n",
    ")"
   ]
  }
 ],
 "metadata": {
  "language_info": {
   "name": "python"
  }
 },
 "nbformat": 4,
 "nbformat_minor": 2
}
